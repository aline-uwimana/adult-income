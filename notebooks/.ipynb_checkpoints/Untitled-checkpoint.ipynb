{
 "cells": [
  {
   "cell_type": "markdown",
   "id": "24307be1-ffe0-4e83-842e-8bdb5bd79801",
   "metadata": {},
   "source": [
    "## UCI adult income Dataset Data Cleaning and Preprocessing \n",
    "\n",
    "This book is focused on preparation , cleaning and preprocessing For the UCI Adult income DataSet."
   ]
  },
  {
   "cell_type": "code",
   "execution_count": 1,
   "id": "bf19c59a-23bb-4e08-aac1-9706d876ccee",
   "metadata": {},
   "outputs": [],
   "source": [
    "# import Libraries \n",
    "\n",
    "import pandas as pd\n",
    "import numpy as np \n",
    "import os"
   ]
  },
  {
   "cell_type": "markdown",
   "id": "d7ab0ff8-4f21-41b0-b442-991b201ade9d",
   "metadata": {},
   "source": [
    "# Define and Create paths"
   ]
  },
  {
   "cell_type": "code",
   "execution_count": 3,
   "id": "c74ad789-efd5-4cc7-97ac-fbee3598f45b",
   "metadata": {},
   "outputs": [],
   "source": [
    "# Get working directory \n",
    "\n",
    "current_dir = os.getcwd()\n",
    "\n",
    "# Go one directory up to the root directory\n",
    "project_root_dir = os.path.dirname(current_dir)\n",
    "\n",
    "# Define paths to the folders\n",
    "data_dir  = os.path.join(project_root_dir ,'data')\n",
    "raw_dir  = os.path.join(data_dir ,'raw')\n",
    "processed_dir  = os.path.join(data_dir ,'processed')\n",
    "\n",
    "#Define paths to results folder\n",
    "results_dir  = os.path.join(project_root_dir ,'results')\n",
    "\n",
    "# Define paths docs folder\n",
    "docs_dir  = os.path.join(project_root_dir ,'docs')\n",
    "\n",
    "#create directories if they do not exist\n",
    "os.makedirs(raw_dir, exist_ok = True)\n",
    "os.makedirs(processed_dir, exist_ok = True)\n",
    "os.makedirs(results_dir, exist_ok = True)\n",
    "os.makedirs(docs_dir, exist_ok = True)\n"
   ]
  },
  {
   "cell_type": "markdown",
   "id": "2579604f-ecb2-4e2e-9518-d51e131ceacc",
   "metadata": {},
   "source": [
    "# Read in the Data"
   ]
  },
  {
   "cell_type": "code",
   "execution_count": 4,
   "id": "ca99e41d-9a64-46dd-befb-2002063d9763",
   "metadata": {},
   "outputs": [
    {
     "data": {
      "text/html": [
       "<div>\n",
       "<style scoped>\n",
       "    .dataframe tbody tr th:only-of-type {\n",
       "        vertical-align: middle;\n",
       "    }\n",
       "\n",
       "    .dataframe tbody tr th {\n",
       "        vertical-align: top;\n",
       "    }\n",
       "\n",
       "    .dataframe thead th {\n",
       "        text-align: right;\n",
       "    }\n",
       "</style>\n",
       "<table border=\"1\" class=\"dataframe\">\n",
       "  <thead>\n",
       "    <tr style=\"text-align: right;\">\n",
       "      <th></th>\n",
       "      <th>39</th>\n",
       "      <th>State-gov</th>\n",
       "      <th>77516</th>\n",
       "      <th>Bachelors</th>\n",
       "      <th>13</th>\n",
       "      <th>Never-married</th>\n",
       "      <th>Adm-clerical</th>\n",
       "      <th>Not-in-family</th>\n",
       "      <th>White</th>\n",
       "      <th>Male</th>\n",
       "      <th>2174</th>\n",
       "      <th>0</th>\n",
       "      <th>40</th>\n",
       "      <th>United-States</th>\n",
       "      <th>&lt;=50K</th>\n",
       "    </tr>\n",
       "  </thead>\n",
       "  <tbody>\n",
       "    <tr>\n",
       "      <th>0</th>\n",
       "      <td>50</td>\n",
       "      <td>Self-emp-not-inc</td>\n",
       "      <td>83311</td>\n",
       "      <td>Bachelors</td>\n",
       "      <td>13</td>\n",
       "      <td>Married-civ-spouse</td>\n",
       "      <td>Exec-managerial</td>\n",
       "      <td>Husband</td>\n",
       "      <td>White</td>\n",
       "      <td>Male</td>\n",
       "      <td>0</td>\n",
       "      <td>0</td>\n",
       "      <td>13</td>\n",
       "      <td>United-States</td>\n",
       "      <td>&lt;=50K</td>\n",
       "    </tr>\n",
       "    <tr>\n",
       "      <th>1</th>\n",
       "      <td>38</td>\n",
       "      <td>Private</td>\n",
       "      <td>215646</td>\n",
       "      <td>HS-grad</td>\n",
       "      <td>9</td>\n",
       "      <td>Divorced</td>\n",
       "      <td>Handlers-cleaners</td>\n",
       "      <td>Not-in-family</td>\n",
       "      <td>White</td>\n",
       "      <td>Male</td>\n",
       "      <td>0</td>\n",
       "      <td>0</td>\n",
       "      <td>40</td>\n",
       "      <td>United-States</td>\n",
       "      <td>&lt;=50K</td>\n",
       "    </tr>\n",
       "    <tr>\n",
       "      <th>2</th>\n",
       "      <td>53</td>\n",
       "      <td>Private</td>\n",
       "      <td>234721</td>\n",
       "      <td>11th</td>\n",
       "      <td>7</td>\n",
       "      <td>Married-civ-spouse</td>\n",
       "      <td>Handlers-cleaners</td>\n",
       "      <td>Husband</td>\n",
       "      <td>Black</td>\n",
       "      <td>Male</td>\n",
       "      <td>0</td>\n",
       "      <td>0</td>\n",
       "      <td>40</td>\n",
       "      <td>United-States</td>\n",
       "      <td>&lt;=50K</td>\n",
       "    </tr>\n",
       "    <tr>\n",
       "      <th>3</th>\n",
       "      <td>28</td>\n",
       "      <td>Private</td>\n",
       "      <td>338409</td>\n",
       "      <td>Bachelors</td>\n",
       "      <td>13</td>\n",
       "      <td>Married-civ-spouse</td>\n",
       "      <td>Prof-specialty</td>\n",
       "      <td>Wife</td>\n",
       "      <td>Black</td>\n",
       "      <td>Female</td>\n",
       "      <td>0</td>\n",
       "      <td>0</td>\n",
       "      <td>40</td>\n",
       "      <td>Cuba</td>\n",
       "      <td>&lt;=50K</td>\n",
       "    </tr>\n",
       "    <tr>\n",
       "      <th>4</th>\n",
       "      <td>37</td>\n",
       "      <td>Private</td>\n",
       "      <td>284582</td>\n",
       "      <td>Masters</td>\n",
       "      <td>14</td>\n",
       "      <td>Married-civ-spouse</td>\n",
       "      <td>Exec-managerial</td>\n",
       "      <td>Wife</td>\n",
       "      <td>White</td>\n",
       "      <td>Female</td>\n",
       "      <td>0</td>\n",
       "      <td>0</td>\n",
       "      <td>40</td>\n",
       "      <td>United-States</td>\n",
       "      <td>&lt;=50K</td>\n",
       "    </tr>\n",
       "  </tbody>\n",
       "</table>\n",
       "</div>"
      ],
      "text/plain": [
       "   39          State-gov   77516   Bachelors   13        Never-married  \\\n",
       "0  50   Self-emp-not-inc   83311   Bachelors   13   Married-civ-spouse   \n",
       "1  38            Private  215646     HS-grad    9             Divorced   \n",
       "2  53            Private  234721        11th    7   Married-civ-spouse   \n",
       "3  28            Private  338409   Bachelors   13   Married-civ-spouse   \n",
       "4  37            Private  284582     Masters   14   Married-civ-spouse   \n",
       "\n",
       "         Adm-clerical   Not-in-family   White     Male   2174   0   40  \\\n",
       "0     Exec-managerial         Husband   White     Male      0   0   13   \n",
       "1   Handlers-cleaners   Not-in-family   White     Male      0   0   40   \n",
       "2   Handlers-cleaners         Husband   Black     Male      0   0   40   \n",
       "3      Prof-specialty            Wife   Black   Female      0   0   40   \n",
       "4     Exec-managerial            Wife   White   Female      0   0   40   \n",
       "\n",
       "    United-States   <=50K  \n",
       "0   United-States   <=50K  \n",
       "1   United-States   <=50K  \n",
       "2   United-States   <=50K  \n",
       "3            Cuba   <=50K  \n",
       "4   United-States   <=50K  "
      ]
     },
     "execution_count": 4,
     "metadata": {},
     "output_type": "execute_result"
    }
   ],
   "source": [
    "adult_data_filename =os.path.join(raw_dir,\"adult.csv\")\n",
    "adult_df = pd.read_csv(adult_data_filename)\n",
    "adult_df.head(5)"
   ]
  },
  {
   "cell_type": "code",
   "execution_count": 6,
   "id": "ed674c69-ee0f-4f3b-b098-a73989a72d40",
   "metadata": {},
   "outputs": [
    {
     "data": {
      "text/plain": [
       "(32560, 15)"
      ]
     },
     "execution_count": 6,
     "metadata": {},
     "output_type": "execute_result"
    }
   ],
   "source": [
    "adult_df.shape"
   ]
  },
  {
   "cell_type": "code",
   "execution_count": 7,
   "id": "7e95d11a-2d33-440e-9fd3-cd49db1d0b5d",
   "metadata": {},
   "outputs": [
    {
     "name": "stdout",
     "output_type": "stream",
     "text": [
      "<class 'pandas.core.frame.DataFrame'>\n",
      "RangeIndex: 32560 entries, 0 to 32559\n",
      "Data columns (total 15 columns):\n",
      " #   Column          Non-Null Count  Dtype \n",
      "---  ------          --------------  ----- \n",
      " 0   39              32560 non-null  int64 \n",
      " 1    State-gov      32560 non-null  object\n",
      " 2    77516          32560 non-null  int64 \n",
      " 3    Bachelors      32560 non-null  object\n",
      " 4    13             32560 non-null  int64 \n",
      " 5    Never-married  32560 non-null  object\n",
      " 6    Adm-clerical   32560 non-null  object\n",
      " 7    Not-in-family  32560 non-null  object\n",
      " 8    White          32560 non-null  object\n",
      " 9    Male           32560 non-null  object\n",
      " 10   2174           32560 non-null  int64 \n",
      " 11   0              32560 non-null  int64 \n",
      " 12   40             32560 non-null  int64 \n",
      " 13   United-States  32560 non-null  object\n",
      " 14   <=50K          32560 non-null  object\n",
      "dtypes: int64(6), object(9)\n",
      "memory usage: 3.7+ MB\n"
     ]
    }
   ],
   "source": [
    "adult_df.info()"
   ]
  },
  {
   "cell_type": "markdown",
   "id": "7a884a3b-c463-4b63-a0e4-3c2b5eb6fbc8",
   "metadata": {},
   "source": [
    "# Data Cleaning"
   ]
  },
  {
   "cell_type": "markdown",
   "id": "b8893732-1bf6-43e0-a473-b69e6c48fb21",
   "metadata": {},
   "source": [
    "# Assign proper column names to the columns"
   ]
  },
  {
   "cell_type": "code",
   "execution_count": 11,
   "id": "f7dfa7ce-af2f-46df-a185-084824b424eb",
   "metadata": {},
   "outputs": [],
   "source": [
    "adult_df.columns= [ \"age\", \"workclass\",\"fnlwgt\", \"education\", \"education_num\", \"marital_atatus\", \"occupation\", \"relationship\", \"race\", \"sex\", \"capital_gain\", \"capital_loss\", \"hours_per_week\", \"native_country\", \"income\"]"
   ]
  },
  {
   "cell_type": "markdown",
   "id": "f061d6b4-85d5-41ee-8d5e-3258a809417c",
   "metadata": {},
   "source": [
    "## Understanding the dataset\n",
    "- age: represents the age of the person, ranging from 17 to 90.\n",
    "- workclass:represents"
   ]
  },
  {
   "cell_type": "code",
   "execution_count": null,
   "id": "c612888d-1450-4c33-ac53-d24b330dd7fb",
   "metadata": {},
   "outputs": [],
   "source": [
    "np.unique(adult_df.age.to_list())"
   ]
  }
 ],
 "metadata": {
  "kernelspec": {
   "display_name": "Python 3 (ipykernel)",
   "language": "python",
   "name": "python3"
  },
  "language_info": {
   "codemirror_mode": {
    "name": "ipython",
    "version": 3
   },
   "file_extension": ".py",
   "mimetype": "text/x-python",
   "name": "python",
   "nbconvert_exporter": "python",
   "pygments_lexer": "ipython3",
   "version": "3.11.7"
  }
 },
 "nbformat": 4,
 "nbformat_minor": 5
}
